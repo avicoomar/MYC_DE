{
 "cells": [
  {
   "cell_type": "code",
   "execution_count": 1,
   "id": "3af54e3b-2ec1-4563-bfc0-06c50a084c2f",
   "metadata": {},
   "outputs": [],
   "source": [
    "# Imports:\n",
    "from pyspark.sql import SparkSession, Row, Column\n",
    "from pyspark.sql.functions import *\n",
    "from pyspark.sql.types import *"
   ]
  },
  {
   "cell_type": "code",
   "execution_count": 2,
   "id": "4c6f6d6d-3047-4fc1-a904-6a0bd9d16fd4",
   "metadata": {},
   "outputs": [
    {
     "name": "stderr",
     "output_type": "stream",
     "text": [
      "WARNING: Using incubator modules: jdk.incubator.vector\n",
      "Using Spark's default log4j profile: org/apache/spark/log4j2-defaults.properties\n",
      "25/09/01 16:44:02 WARN Utils: Your hostname, pop-os, resolves to a loopback address: 127.0.1.1; using 192.168.1.8 instead (on interface wlp0s20f3)\n",
      "25/09/01 16:44:02 WARN Utils: Set SPARK_LOCAL_IP if you need to bind to another address\n",
      "25/09/01 16:44:04 WARN NativeCodeLoader: Unable to load native-hadoop library for your platform... using builtin-java classes where applicable\n",
      "Using Spark's default log4j profile: org/apache/spark/log4j2-defaults.properties\n",
      "Setting default log level to \"WARN\".\n",
      "To adjust logging level use sc.setLogLevel(newLevel). For SparkR, use setLogLevel(newLevel).\n"
     ]
    },
    {
     "data": {
      "text/html": [
       "\n",
       "            <div>\n",
       "                <p><b>SparkSession - in-memory</b></p>\n",
       "                \n",
       "        <div>\n",
       "            <p><b>SparkContext</b></p>\n",
       "\n",
       "            <p><a href=\"http://192.168.1.8:4040\">Spark UI</a></p>\n",
       "\n",
       "            <dl>\n",
       "              <dt>Version</dt>\n",
       "                <dd><code>v4.0.0</code></dd>\n",
       "              <dt>Master</dt>\n",
       "                <dd><code>spark://127.0.1.1:7077</code></dd>\n",
       "              <dt>AppName</dt>\n",
       "                <dd><code>MYC_jupyter_notebook_app</code></dd>\n",
       "            </dl>\n",
       "        </div>\n",
       "        \n",
       "            </div>\n",
       "        "
      ],
      "text/plain": [
       "<pyspark.sql.session.SparkSession at 0x710dcab50ec0>"
      ]
     },
     "execution_count": 2,
     "metadata": {},
     "output_type": "execute_result"
    }
   ],
   "source": [
    "# Setup:\n",
    "spark = (\n",
    "    SparkSession\n",
    "    .builder\n",
    "    .config(\"spark.app.name\", \"MYC_jupyter_notebook_app\")\n",
    "    .config(\"spark.master\", \"spark://127.0.1.1:7077\")\n",
    "    .config(\"spark.jars\", \"../local/jars/mysql-connector-j-9.4.0.jar, ../local/jars/hadoop-aws-3.4.1.jar, ../local/jars/bundle-2.28.26.jar\")\n",
    "    .getOrCreate()\n",
    ")\n",
    "spark"
   ]
  },
  {
   "cell_type": "code",
   "execution_count": 3,
   "id": "4112d78a-a80a-4e65-825f-89e36bc3500d",
   "metadata": {},
   "outputs": [],
   "source": [
    "auth_group = spark.read \\\n",
    "    .format(\"jdbc\") \\\n",
    "    .option(\"url\", \"jdbc:mysql://127.0.0.1:3306/MYC_Django\") \\\n",
    "    .option(\"driver\", \"com.mysql.cj.jdbc.Driver\") \\\n",
    "    .option(\"dbtable\", \"auth_group\") \\\n",
    "    .option(\"user\", \"gand\") \\\n",
    "    .option(\"password\", \"gand\") \\\n",
    "    .load()\n",
    "\n",
    "auth_group_permissions = spark.read \\\n",
    "    .format(\"jdbc\") \\\n",
    "    .option(\"url\", \"jdbc:mysql://127.0.0.1:3306/MYC_Django\") \\\n",
    "    .option(\"driver\", \"com.mysql.cj.jdbc.Driver\") \\\n",
    "    .option(\"dbtable\", \"auth_group_permissions\") \\\n",
    "    .option(\"user\", \"gand\") \\\n",
    "    .option(\"password\", \"gand\") \\\n",
    "    .load()\n",
    "\n",
    "auth_permission = spark.read \\\n",
    "    .format(\"jdbc\") \\\n",
    "    .option(\"url\", \"jdbc:mysql://127.0.0.1:3306/MYC_Django\") \\\n",
    "    .option(\"driver\", \"com.mysql.cj.jdbc.Driver\") \\\n",
    "    .option(\"dbtable\", \"auth_permission\") \\\n",
    "    .option(\"user\", \"gand\") \\\n",
    "    .option(\"password\", \"gand\") \\\n",
    "    .load()\n",
    "\n",
    "users_company = spark.read \\\n",
    "    .format(\"jdbc\") \\\n",
    "    .option(\"url\", \"jdbc:mysql://127.0.0.1:3306/MYC_Django\") \\\n",
    "    .option(\"driver\", \"com.mysql.cj.jdbc.Driver\") \\\n",
    "    .option(\"dbtable\", \"users_company\") \\\n",
    "    .option(\"user\", \"gand\") \\\n",
    "    .option(\"password\", \"gand\") \\\n",
    "    .load()\n",
    "\n",
    "users_entrepreneurdetail = spark.read \\\n",
    "    .format(\"jdbc\") \\\n",
    "    .option(\"url\", \"jdbc:mysql://127.0.0.1:3306/MYC_Django\") \\\n",
    "    .option(\"driver\", \"com.mysql.cj.jdbc.Driver\") \\\n",
    "    .option(\"dbtable\", \"users_entrepreneurdetail\") \\\n",
    "    .option(\"user\", \"gand\") \\\n",
    "    .option(\"password\", \"gand\") \\\n",
    "    .load()\n",
    "\n",
    "users_investordetail = spark.read \\\n",
    "    .format(\"jdbc\") \\\n",
    "    .option(\"url\", \"jdbc:mysql://127.0.0.1:3306/MYC_Django\") \\\n",
    "    .option(\"driver\", \"com.mysql.cj.jdbc.Driver\") \\\n",
    "    .option(\"dbtable\", \"users_investordetail\") \\\n",
    "    .option(\"user\", \"gand\") \\\n",
    "    .option(\"password\", \"gand\") \\\n",
    "    .load()\n",
    "\n",
    "users_myuser = spark.read \\\n",
    "    .format(\"jdbc\") \\\n",
    "    .option(\"url\", \"jdbc:mysql://127.0.0.1:3306/MYC_Django\") \\\n",
    "    .option(\"driver\", \"com.mysql.cj.jdbc.Driver\") \\\n",
    "    .option(\"dbtable\", \"users_myuser\") \\\n",
    "    .option(\"user\", \"gand\") \\\n",
    "    .option(\"password\", \"gand\") \\\n",
    "    .load()\n",
    "\n",
    "users_myuser_groups = spark.read \\\n",
    "    .format(\"jdbc\") \\\n",
    "    .option(\"url\", \"jdbc:mysql://127.0.0.1:3306/MYC_Django\") \\\n",
    "    .option(\"driver\", \"com.mysql.cj.jdbc.Driver\") \\\n",
    "    .option(\"dbtable\", \"users_myuser_groups\") \\\n",
    "    .option(\"user\", \"gand\") \\\n",
    "    .option(\"password\", \"gand\") \\\n",
    "    .load()\n",
    "\n",
    "users_myuser_user_permissions = spark.read \\\n",
    "    .format(\"jdbc\") \\\n",
    "    .option(\"url\", \"jdbc:mysql://127.0.0.1:3306/MYC_Django\") \\\n",
    "    .option(\"driver\", \"com.mysql.cj.jdbc.Driver\") \\\n",
    "    .option(\"dbtable\", \"users_myuser_user_permissions\") \\\n",
    "    .option(\"user\", \"gand\") \\\n",
    "    .option(\"password\", \"gand\") \\\n",
    "    .load()"
   ]
  },
  {
   "cell_type": "code",
   "execution_count": 4,
   "id": "5f07ee0d-ef95-40f7-b2b8-783415761684",
   "metadata": {},
   "outputs": [
    {
     "name": "stderr",
     "output_type": "stream",
     "text": [
      "                                                                                "
     ]
    },
    {
     "name": "stdout",
     "output_type": "stream",
     "text": [
      "+-------+--------------------+--------------------+------------+----------+----------+---------+-----+--------+---------+--------------------+------------+----------+--------------------+\n",
      "|user_id|            password|          last_login|is_superuser|  username|first_name|last_name|email|is_staff|is_active|         date_joined|        role|  phone_no|       refresh_token|\n",
      "+-------+--------------------+--------------------+------------+----------+----------+---------+-----+--------+---------+--------------------+------------+----------+--------------------+\n",
      "|      1|pbkdf2_sha256$100...|2025-07-18 13:25:...|        true|     admin|          |         |     |    true|     true|2025-07-17 08:16:...|       ADMIN|1234567890|                    |\n",
      "|      6|pbkdf2_sha256$100...|                NULL|       false| avi_react|       Avi|    React|     |   false|     true|2025-07-23 05:01:...|    INVESTOR|    192129|128870d1-a28c-4c5...|\n",
      "|      7|pbkdf2_sha256$100...|                NULL|       false|avi_react2|       Abi|   React2|     |   false|     true|2025-07-23 09:20:...|ENTREPRENEUR|      1213|f69fad47-1ecc-47d...|\n",
      "+-------+--------------------+--------------------+------------+----------+----------+---------+-----+--------+---------+--------------------+------------+----------+--------------------+\n",
      "\n",
      "+-----------+-------+\n",
      "|investor_id|user_id|\n",
      "+-----------+-------+\n",
      "+-----------+-------+\n",
      "\n",
      "+---------------+-------+\n",
      "|entrepreneur_id|user_id|\n",
      "+---------------+-------+\n",
      "+---------------+-------+\n",
      "\n",
      "+----------+---------------+\n",
      "|company_id|entrepreneur_id|\n",
      "+----------+---------------+\n",
      "+----------+---------------+\n",
      "\n"
     ]
    }
   ],
   "source": [
    "# Renaming the columns to avoid confusion\n",
    "users_myuser = users_myuser.withColumnRenamed(\"id\", \"user_id\")\n",
    "users_investordetail =  users_investordetail.withColumnRenamed(\"id\", \"investor_id\")\n",
    "users_entrepreneurdetail = users_entrepreneurdetail.withColumnRenamed(\"id\", \"entrepreneur_id\") \n",
    "users_company = users_company.withColumnRenamed(\"id\", \"company_id\")\n",
    "users_myuser.show()\n",
    "users_investordetail.show()\n",
    "users_entrepreneurdetail.show()\n",
    "users_company.show()"
   ]
  },
  {
   "cell_type": "code",
   "execution_count": 5,
   "id": "db2d9bc6-2a5a-4fef-8cd7-46f5566d28d1",
   "metadata": {},
   "outputs": [
    {
     "name": "stderr",
     "output_type": "stream",
     "text": [
      "[Stage 4:>                  (0 + 1) / 1][Stage 5:>                  (0 + 1) / 1]"
     ]
    },
    {
     "name": "stdout",
     "output_type": "stream",
     "text": [
      "+---------------+-------+----------+\n",
      "|entrepreneur_id|user_id|company_id|\n",
      "+---------------+-------+----------+\n",
      "+---------------+-------+----------+\n",
      "\n"
     ]
    }
   ],
   "source": [
    "# Joining users_entrepreneurdetail & users_company into one\n",
    "user_ent_comp = users_entrepreneurdetail.join(users_company, \"entrepreneur_id\", \"full_outer\")\n",
    "user_ent_comp.show()"
   ]
  },
  {
   "cell_type": "code",
   "execution_count": 6,
   "id": "42e725d5-ec87-4525-8bc7-ec86235d0aee",
   "metadata": {},
   "outputs": [
    {
     "name": "stdout",
     "output_type": "stream",
     "text": [
      "+-------+-----------+---------------+\n",
      "|user_id|investor_id|entrepreneur_id|\n",
      "+-------+-----------+---------------+\n",
      "|      7|       NULL|           NULL|\n",
      "|      6|       NULL|           NULL|\n",
      "|      1|       NULL|           NULL|\n",
      "+-------+-----------+---------------+\n",
      "\n"
     ]
    },
    {
     "name": "stderr",
     "output_type": "stream",
     "text": [
      "                                                                                "
     ]
    }
   ],
   "source": [
    "# Create user_facts: \n",
    "user_facts = users_myuser.join(users_investordetail, \"user_id\", \"full_outer\").join(user_ent_comp, \"user_id\", \"full_outer\")\n",
    "user_facts = user_facts.select(\"user_id\", \"investor_id\", \"entrepreneur_id\")\n",
    "user_facts.show()"
   ]
  },
  {
   "cell_type": "code",
   "execution_count": 7,
   "id": "85b7af52-e15b-4b3f-9f6f-f6faaade6ebe",
   "metadata": {},
   "outputs": [
    {
     "name": "stdout",
     "output_type": "stream",
     "text": [
      "+---------------+----------+\n",
      "|entrepreneur_id|company_id|\n",
      "+---------------+----------+\n",
      "+---------------+----------+\n",
      "\n",
      "+-----------+\n",
      "|investor_id|\n",
      "+-----------+\n",
      "+-----------+\n",
      "\n"
     ]
    }
   ],
   "source": [
    "# Dropping user_id columns as that can be fetched from fact table:\n",
    "user_ent_comp = user_ent_comp.drop(\"user_id\")\n",
    "user_ent_comp.show()\n",
    "users_investordetail = users_investordetail.drop(\"user_id\")\n",
    "users_investordetail.show()"
   ]
  },
  {
   "cell_type": "code",
   "execution_count": 8,
   "id": "af304eb2-05cb-4454-b96d-bf223126bc41",
   "metadata": {},
   "outputs": [
    {
     "name": "stdout",
     "output_type": "stream",
     "text": [
      "+-------+--------------------+--------------------+------------+----------+----------+---------+-----+--------+---------+--------------------+------------+----------+--------------------+\n",
      "|user_id|            password|          last_login|is_superuser|  username|first_name|last_name|email|is_staff|is_active|         date_joined|        role|  phone_no|       refresh_token|\n",
      "+-------+--------------------+--------------------+------------+----------+----------+---------+-----+--------+---------+--------------------+------------+----------+--------------------+\n",
      "|      1|pbkdf2_sha256$100...|2025-07-18 13:25:...|        true|     admin|          |         |     |    true|     true|2025-07-17 08:16:...|       ADMIN|1234567890|                    |\n",
      "|      6|pbkdf2_sha256$100...|                NULL|       false| avi_react|       Avi|    React|     |   false|     true|2025-07-23 05:01:...|    INVESTOR|    192129|128870d1-a28c-4c5...|\n",
      "|      7|pbkdf2_sha256$100...|                NULL|       false|avi_react2|       Abi|   React2|     |   false|     true|2025-07-23 09:20:...|ENTREPRENEUR|      1213|f69fad47-1ecc-47d...|\n",
      "+-------+--------------------+--------------------+------------+----------+----------+---------+-----+--------+---------+--------------------+------------+----------+--------------------+\n",
      "\n",
      "+-----------+\n",
      "|investor_id|\n",
      "+-----------+\n",
      "+-----------+\n",
      "\n",
      "+---------------+----------+\n",
      "|entrepreneur_id|company_id|\n",
      "+---------------+----------+\n",
      "+---------------+----------+\n",
      "\n",
      "+-------+-----------+---------------+\n",
      "|user_id|investor_id|entrepreneur_id|\n",
      "+-------+-----------+---------------+\n",
      "|      7|       NULL|           NULL|\n",
      "|      6|       NULL|           NULL|\n",
      "|      1|       NULL|           NULL|\n",
      "+-------+-----------+---------------+\n",
      "\n"
     ]
    }
   ],
   "source": [
    "# Final result of users_myuser, users_investordetail, user_ent_comp, user_facts:\n",
    "users_myuser.show()\n",
    "users_investordetail.show()\n",
    "user_ent_comp.show()\n",
    "user_facts.show()"
   ]
  },
  {
   "cell_type": "code",
   "execution_count": 9,
   "id": "b7c25b97-f8f2-4fcc-8eea-4f157d604f0f",
   "metadata": {},
   "outputs": [],
   "source": [
    "# Dropping content_type_id as it is irrelevant:\n",
    "auth_permission = auth_permission.drop(\"content_type_id\")"
   ]
  },
  {
   "cell_type": "code",
   "execution_count": 10,
   "id": "22042727-90e0-4a78-accd-c655e5b2f5a8",
   "metadata": {},
   "outputs": [
    {
     "name": "stdout",
     "output_type": "stream",
     "text": [
      "+---+------------------+\n",
      "| id|              name|\n",
      "+---+------------------+\n",
      "|  2|entrepreneur_group|\n",
      "|  1|    investor_group|\n",
      "+---+------------------+\n",
      "\n",
      "+---+--------------------+------------------+\n",
      "| id|                name|          codename|\n",
      "+---+--------------------+------------------+\n",
      "|  1|   Can add log entry|      add_logentry|\n",
      "|  2|Can change log entry|   change_logentry|\n",
      "|  3|Can delete log entry|   delete_logentry|\n",
      "|  4|  Can view log entry|     view_logentry|\n",
      "|  5|  Can add permission|    add_permission|\n",
      "|  6|Can change permis...| change_permission|\n",
      "|  7|Can delete permis...| delete_permission|\n",
      "|  8| Can view permission|   view_permission|\n",
      "|  9|       Can add group|         add_group|\n",
      "| 10|    Can change group|      change_group|\n",
      "| 11|    Can delete group|      delete_group|\n",
      "| 12|      Can view group|        view_group|\n",
      "| 13|Can add content type|   add_contenttype|\n",
      "| 14|Can change conten...|change_contenttype|\n",
      "| 15|Can delete conten...|delete_contenttype|\n",
      "| 16|Can view content ...|  view_contenttype|\n",
      "| 17|     Can add session|       add_session|\n",
      "| 18|  Can change session|    change_session|\n",
      "| 19|  Can delete session|    delete_session|\n",
      "| 20|    Can view session|      view_session|\n",
      "+---+--------------------+------------------+\n",
      "only showing top 20 rows\n",
      "+-------+------------------+--------+-------------------+\n",
      "|user_id|user_permission_id|group_id|group_permission_id|\n",
      "+-------+------------------+--------+-------------------+\n",
      "|      6|              NULL|       1|                 32|\n",
      "|      6|              NULL|       1|                 33|\n",
      "|      6|              NULL|       1|                 41|\n",
      "|      6|              NULL|       1|                 42|\n",
      "|      6|              NULL|       1|                 43|\n",
      "|      7|              NULL|       2|                 25|\n",
      "|      7|              NULL|       2|                 29|\n",
      "|      7|              NULL|       2|                 36|\n",
      "|      7|              NULL|       2|                 37|\n",
      "|      7|              NULL|       2|                 38|\n",
      "|      7|              NULL|       2|                 39|\n",
      "|      7|              NULL|       2|                 40|\n",
      "|      7|              NULL|       2|                 44|\n",
      "|      7|              NULL|       2|                 45|\n",
      "+-------+------------------+--------+-------------------+\n",
      "\n"
     ]
    }
   ],
   "source": [
    "# Renaming the columns to avoid confusion & for joining purpose:\n",
    "auth_group_permissions = auth_group_permissions.withColumnRenamed(\"permission_id\", \"group_permission_id\")\n",
    "users_myuser_user_permissions = users_myuser_user_permissions.withColumnRenamed(\"permission_id\", \"user_permission_id\")\n",
    "users_myuser_user_permissions = users_myuser_user_permissions.withColumnRenamed(\"myuser_id\", \"user_id\")\n",
    "users_myuser_groups = users_myuser_groups.withColumnRenamed(\"myuser_id\", \"user_id\")\n",
    "\n",
    "user_permission_facts = users_myuser_groups \\\n",
    "    .join(auth_group_permissions, \"group_id\", \"full_outer\") \\\n",
    "    .join(users_myuser_user_permissions, \"user_id\", \"full_outer\") \\\n",
    "    .select(\"user_id\", \"user_permission_id\", \"group_id\", \"group_permission_id\")\n",
    "\n",
    "# Final result of auth_group, auth_permission, user_permission_facts:\n",
    "auth_group.show()\n",
    "auth_permission.show()\n",
    "user_permission_facts.show()"
   ]
  },
  {
   "cell_type": "code",
   "execution_count": 11,
   "id": "377e558a-395e-490c-9180-c31255961985",
   "metadata": {},
   "outputs": [
    {
     "name": "stderr",
     "output_type": "stream",
     "text": [
      "25/09/01 16:46:40 WARN MetricsConfig: Cannot locate configuration: tried hadoop-metrics2-s3a-file-system.properties,hadoop-metrics2.properties\n",
      "SLF4J: Failed to load class \"org.slf4j.impl.StaticLoggerBinder\".\n",
      "SLF4J: Defaulting to no-operation (NOP) logger implementation\n",
      "SLF4J: See http://www.slf4j.org/codes.html#StaticLoggerBinder for further details.\n",
      "                                                                                "
     ]
    }
   ],
   "source": [
    "# Load Data:\n",
    "users_myuser.write \\\n",
    "    .format(\"parquet\") \\\n",
    "    .mode(\"overwrite\") \\\n",
    "    .save(\"s3a://elasticbeanstalk-ap-south-1-576190372469/myc/silver/fse_users_myuser\")\n",
    "\n",
    "users_investordetail.write \\\n",
    "    .format(\"parquet\") \\\n",
    "    .mode(\"overwrite\") \\\n",
    "    .save(\"s3a://elasticbeanstalk-ap-south-1-576190372469/myc/silver/fse_users_investordetail\")\n",
    "\n",
    "user_ent_comp.write \\\n",
    "    .format(\"parquet\") \\\n",
    "    .mode(\"overwrite\") \\\n",
    "    .save(\"s3a://elasticbeanstalk-ap-south-1-576190372469/myc/silver/fse_user_ent_comp\")\n",
    "\n",
    "user_facts.write \\\n",
    "    .format(\"parquet\") \\\n",
    "    .mode(\"overwrite\") \\\n",
    "    .save(\"s3a://elasticbeanstalk-ap-south-1-576190372469/myc/silver/fse_user_facts\")\n",
    "\n",
    "auth_group.write \\\n",
    "    .format(\"parquet\") \\\n",
    "    .mode(\"overwrite\") \\\n",
    "    .save(\"s3a://elasticbeanstalk-ap-south-1-576190372469/myc/silver/fse_auth_group\")\n",
    "\n",
    "auth_permission.write \\\n",
    "    .format(\"parquet\") \\\n",
    "    .mode(\"overwrite\") \\\n",
    "    .save(\"s3a://elasticbeanstalk-ap-south-1-576190372469/myc/silver/fse_auth_permission\")\n",
    "\n",
    "user_permission_facts.write \\\n",
    "    .format(\"parquet\") \\\n",
    "    .mode(\"overwrite\") \\\n",
    "    .save(\"s3a://elasticbeanstalk-ap-south-1-576190372469/myc/silver/fse_user_permission_facts\")"
   ]
  },
  {
   "cell_type": "code",
   "execution_count": 12,
   "id": "370dca0c-95bf-43ef-9521-51145f7b45f5",
   "metadata": {},
   "outputs": [
    {
     "name": "stderr",
     "output_type": "stream",
     "text": [
      "                                                                                "
     ]
    },
    {
     "name": "stdout",
     "output_type": "stream",
     "text": [
      "+-------+--------------------+--------------------+------------+----------+----------+---------+-----+--------+---------+--------------------+------------+----------+--------------------+\n",
      "|user_id|            password|          last_login|is_superuser|  username|first_name|last_name|email|is_staff|is_active|         date_joined|        role|  phone_no|       refresh_token|\n",
      "+-------+--------------------+--------------------+------------+----------+----------+---------+-----+--------+---------+--------------------+------------+----------+--------------------+\n",
      "|      1|pbkdf2_sha256$100...|2025-07-18 13:25:...|        true|     admin|          |         |     |    true|     true|2025-07-17 08:16:...|       ADMIN|1234567890|                    |\n",
      "|      6|pbkdf2_sha256$100...|                NULL|       false| avi_react|       Avi|    React|     |   false|     true|2025-07-23 05:01:...|    INVESTOR|    192129|128870d1-a28c-4c5...|\n",
      "|      7|pbkdf2_sha256$100...|                NULL|       false|avi_react2|       Abi|   React2|     |   false|     true|2025-07-23 09:20:...|ENTREPRENEUR|      1213|f69fad47-1ecc-47d...|\n",
      "+-------+--------------------+--------------------+------------+----------+----------+---------+-----+--------+---------+--------------------+------------+----------+--------------------+\n",
      "\n",
      "+-----------+\n",
      "|investor_id|\n",
      "+-----------+\n",
      "+-----------+\n",
      "\n",
      "+---------------+----------+\n",
      "|entrepreneur_id|company_id|\n",
      "+---------------+----------+\n",
      "+---------------+----------+\n",
      "\n",
      "+-------+-----------+---------------+\n",
      "|user_id|investor_id|entrepreneur_id|\n",
      "+-------+-----------+---------------+\n",
      "|      7|       NULL|           NULL|\n",
      "|      6|       NULL|           NULL|\n",
      "|      1|       NULL|           NULL|\n",
      "+-------+-----------+---------------+\n",
      "\n",
      "+---+------------------+\n",
      "| id|              name|\n",
      "+---+------------------+\n",
      "|  2|entrepreneur_group|\n",
      "|  1|    investor_group|\n",
      "+---+------------------+\n",
      "\n"
     ]
    },
    {
     "name": "stderr",
     "output_type": "stream",
     "text": [
      "                                                                                "
     ]
    },
    {
     "name": "stdout",
     "output_type": "stream",
     "text": [
      "+---+--------------------+------------------+\n",
      "| id|                name|          codename|\n",
      "+---+--------------------+------------------+\n",
      "|  1|   Can add log entry|      add_logentry|\n",
      "|  2|Can change log entry|   change_logentry|\n",
      "|  3|Can delete log entry|   delete_logentry|\n",
      "|  4|  Can view log entry|     view_logentry|\n",
      "|  5|  Can add permission|    add_permission|\n",
      "|  6|Can change permis...| change_permission|\n",
      "|  7|Can delete permis...| delete_permission|\n",
      "|  8| Can view permission|   view_permission|\n",
      "|  9|       Can add group|         add_group|\n",
      "| 10|    Can change group|      change_group|\n",
      "| 11|    Can delete group|      delete_group|\n",
      "| 12|      Can view group|        view_group|\n",
      "| 13|Can add content type|   add_contenttype|\n",
      "| 14|Can change conten...|change_contenttype|\n",
      "| 15|Can delete conten...|delete_contenttype|\n",
      "| 16|Can view content ...|  view_contenttype|\n",
      "| 17|     Can add session|       add_session|\n",
      "| 18|  Can change session|    change_session|\n",
      "| 19|  Can delete session|    delete_session|\n",
      "| 20|    Can view session|      view_session|\n",
      "+---+--------------------+------------------+\n",
      "only showing top 20 rows\n",
      "+-------+------------------+--------+-------------------+\n",
      "|user_id|user_permission_id|group_id|group_permission_id|\n",
      "+-------+------------------+--------+-------------------+\n",
      "|      6|              NULL|       1|                 32|\n",
      "|      6|              NULL|       1|                 33|\n",
      "|      6|              NULL|       1|                 41|\n",
      "|      6|              NULL|       1|                 42|\n",
      "|      6|              NULL|       1|                 43|\n",
      "|      7|              NULL|       2|                 25|\n",
      "|      7|              NULL|       2|                 29|\n",
      "|      7|              NULL|       2|                 36|\n",
      "|      7|              NULL|       2|                 37|\n",
      "|      7|              NULL|       2|                 38|\n",
      "|      7|              NULL|       2|                 39|\n",
      "|      7|              NULL|       2|                 40|\n",
      "|      7|              NULL|       2|                 44|\n",
      "|      7|              NULL|       2|                 45|\n",
      "+-------+------------------+--------+-------------------+\n",
      "\n"
     ]
    }
   ],
   "source": [
    "# Read & display data to test:\n",
    "spark.read.parquet(\"s3a://elasticbeanstalk-ap-south-1-576190372469/myc/silver/fse_users_myuser\").show()\n",
    "spark.read.parquet(\"s3a://elasticbeanstalk-ap-south-1-576190372469/myc/silver/fse_users_investordetail\").show()\n",
    "spark.read.parquet(\"s3a://elasticbeanstalk-ap-south-1-576190372469/myc/silver/fse_user_ent_comp\").show()\n",
    "spark.read.parquet(\"s3a://elasticbeanstalk-ap-south-1-576190372469/myc/silver/fse_user_facts\").show()\n",
    "spark.read.parquet(\"s3a://elasticbeanstalk-ap-south-1-576190372469/myc/silver/fse_auth_group\").show()\n",
    "spark.read.parquet(\"s3a://elasticbeanstalk-ap-south-1-576190372469/myc/silver/fse_auth_permission\").show()\n",
    "spark.read.parquet(\"s3a://elasticbeanstalk-ap-south-1-576190372469/myc/silver/fse_user_permission_facts\").show()"
   ]
  }
 ],
 "metadata": {
  "kernelspec": {
   "display_name": "Python 3 (ipykernel)",
   "language": "python",
   "name": "python3"
  },
  "language_info": {
   "codemirror_mode": {
    "name": "ipython",
    "version": 3
   },
   "file_extension": ".py",
   "mimetype": "text/x-python",
   "name": "python",
   "nbconvert_exporter": "python",
   "pygments_lexer": "ipython3",
   "version": "3.13.5"
  }
 },
 "nbformat": 4,
 "nbformat_minor": 5
}
